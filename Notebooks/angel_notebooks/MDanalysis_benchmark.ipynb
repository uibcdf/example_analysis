{
 "cells": [
  {
   "cell_type": "markdown",
   "metadata": {},
   "source": [
    "# DHFR benchmarck analysis"
   ]
  },
  {
   "cell_type": "code",
   "execution_count": 1,
   "metadata": {},
   "outputs": [
    {
     "name": "stdout",
     "output_type": "stream",
     "text": [
      "Ahora estás trabajando en: /DATA/projects/Learning_Python/MD_Analysis_examples/dhfr-solv\n"
     ]
    }
   ],
   "source": [
    "# Importación de herramientas\n",
    "import nglview as nv\n",
    "import MDAnalysis as md\n",
    "import mdtraj as mdtraj\n",
    "import pytraj as pt\n",
    "import os\n",
    "\n",
    "# Cambiar el directorio de trabajo sin emportar donde se ejecute este script\n",
    "os.chdir('/DATA/projects/Learning_Python/MD_Analysis_examples/dhfr-solv')\n",
    "\n",
    "# Confirmación de que se ha cambiado el la ruta con exito\n",
    "retval = os.getcwd()\n",
    "\n",
    "print (\"Ahora estás trabajando en: %s\" % retval)"
   ]
  },
  {
   "cell_type": "code",
   "execution_count": 2,
   "metadata": {},
   "outputs": [],
   "source": [
    "%matplotlib inline"
   ]
  },
  {
   "cell_type": "code",
   "execution_count": 3,
   "metadata": {},
   "outputs": [],
   "source": [
    "# ubicación de la topología, trayectoria y estructura de DHFR\n",
    "topology = 'dhfr_23558.top' # nombre del archivo \n",
    "trajectory = 'traj_comp.xtc'\n",
    "structure = 'dhfr_23558.gro'"
   ]
  },
  {
   "cell_type": "code",
   "execution_count": 4,
   "metadata": {},
   "outputs": [
    {
     "data": {
      "application/vnd.jupyter.widget-view+json": {
       "model_id": "502ee29dd3914ae9884160740726c804",
       "version_major": 2,
       "version_minor": 0
      },
      "text/html": [
       "<p>Failed to display Jupyter Widget of type <code>NGLWidget</code>.</p>\n",
       "<p>\n",
       "  If you're reading this message in the Jupyter Notebook or JupyterLab Notebook, it may mean\n",
       "  that the widgets JavaScript is still loading. If this message persists, it\n",
       "  likely means that the widgets JavaScript library is either not installed or\n",
       "  not enabled. See the <a href=\"https://ipywidgets.readthedocs.io/en/stable/user_install.html\">Jupyter\n",
       "  Widgets Documentation</a> for setup instructions.\n",
       "</p>\n",
       "<p>\n",
       "  If you're reading this message in another frontend (for example, a static\n",
       "  rendering on GitHub or <a href=\"https://nbviewer.jupyter.org/\">NBViewer</a>),\n",
       "  it may mean that your frontend doesn't currently support widgets.\n",
       "</p>\n"
      ],
      "text/plain": [
       "NGLWidget(count=20001)"
      ]
     },
     "metadata": {},
     "output_type": "display_data"
    }
   ],
   "source": [
    "visualization = mdtraj.load (trajectory, top=structure)\n",
    "view = nv.show_mdtraj(visualization)\n",
    "view"
   ]
  },
  {
   "cell_type": "markdown",
   "metadata": {},
   "source": [
    "# RMSD analysis from CA per frame"
   ]
  },
  {
   "cell_type": "code",
   "execution_count": 5,
   "metadata": {},
   "outputs": [],
   "source": [
    "# Esta parte del script la tranajamos entre Homero y yo\n",
    "\n",
    "traj = pt.iterload ('traj_comp.xtc', top='dhfr_23558.top', frame_slice=(0,20000))\n",
    "data = pt.rmsd (traj, mask=['@CA'], ref=0)"
   ]
  },
  {
   "cell_type": "code",
   "execution_count": 6,
   "metadata": {},
   "outputs": [
    {
     "data": {
      "text/plain": [
       "Text(0,0.5,'rmsd (Angstroms)')"
      ]
     },
     "execution_count": 6,
     "metadata": {},
     "output_type": "execute_result"
    },
    {
     "data": {
      "image/png": "[encoded data removed]",
      "text/plain": [
       "<matplotlib.figure.Figure at 0x2aab20a95278>"
      ]
     },
     "metadata": {},
     "output_type": "display_data"
    }
   ],
   "source": [
    "from matplotlib import pyplot as plt\n",
    "import warnings\n",
    "warnings.filterwarnings ('ignore')\n",
    "plt.plot (data)\n",
    "plt.xlabel ('frame number')\n",
    "plt.ylabel ('rmsd (Angstroms)')"
   ]
  },
  {
   "cell_type": "code",
   "execution_count": null,
   "metadata": {},
   "outputs": [],
   "source": []
  },
  {
   "cell_type": "code",
   "execution_count": null,
   "metadata": {},
   "outputs": [],
   "source": []
  }
 ],
 "metadata": {
  "kernelspec": {
   "display_name": "Python [conda env:MDLab3]",
   "language": "python",
   "name": "conda-env-MDLab3-py"
  },
  "language_info": {
   "codemirror_mode": {
    "name": "ipython",
    "version": 3
   },
   "file_extension": ".py",
   "mimetype": "text/x-python",
   "name": "python",
   "nbconvert_exporter": "python",
   "pygments_lexer": "ipython3",
   "version": "3.6.4"
  }
 },
 "nbformat": 4,
 "nbformat_minor": 2
}
