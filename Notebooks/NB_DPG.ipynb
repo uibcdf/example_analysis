{
 "cells": [
  {
   "cell_type": "markdown",
   "metadata": {},
   "source": [
    "# Preparing the NoteBook"
   ]
  },
  {
   "cell_type": "code",
   "execution_count": 1,
   "metadata": {},
   "outputs": [],
   "source": [
    "%load_ext autoreload\n",
    "%autoreload 2"
   ]
  },
  {
   "cell_type": "code",
   "execution_count": 2,
   "metadata": {},
   "outputs": [],
   "source": [
    "import sys, os, shutil\n",
    "import numpy as np\n",
    "import matplotlib\n",
    "import matplotlib.pyplot as plt\n",
    "import matplotlib.pylab as pylab\n",
    "import pandas as pd\n",
    "import MDAnalysis as MDAnalysis\n",
    "import MDAnalysis.analysis.hbonds.hbond_analysis\n",
    "import mdtraj as md\n",
    "import pytraj as pt\n",
    "import nglview as nv\n",
    "import seaborn as sns\n",
    "#sns.set()"
   ]
  },
  {
   "cell_type": "code",
   "execution_count": 3,
   "metadata": {},
   "outputs": [],
   "source": [
    "# Matplotlib options\n",
    "%matplotlib inline\n",
    "matplotlib.style.use('ggplot')\n",
    "pylab.rcParams['figure.figsize'] = 12, 8"
   ]
  },
  {
   "cell_type": "markdown",
   "metadata": {},
   "source": [
    "# DHFR files"
   ]
  },
  {
   "cell_type": "code",
   "execution_count": 4,
   "metadata": {},
   "outputs": [],
   "source": [
    "dir_system=\"/DATA/projects/Learning_Python/MD_Analysis_examples/dhfr-solv/\""
   ]
  },
  {
   "cell_type": "code",
   "execution_count": 5,
   "metadata": {},
   "outputs": [],
   "source": [
    "filename_traj=\"traj_comp.xtc\"\n",
    "filename_coors=\"dhfr_23558.gro\"\n",
    "filename_top=\"dhfr_23558.top\""
   ]
  },
  {
   "cell_type": "code",
   "execution_count": 6,
   "metadata": {},
   "outputs": [],
   "source": [
    "file_traj=dir_system+filename_traj\n",
    "file_coors=dir_system+filename_coors\n",
    "file_top=dir_system+filename_top"
   ]
  },
  {
   "cell_type": "markdown",
   "metadata": {},
   "source": [
    "# DHFR Visualization (structure and trajectory)"
   ]
  },
  {
   "cell_type": "code",
   "execution_count": 7,
   "metadata": {},
   "outputs": [
    {
     "data": {
      "application/vnd.jupyter.widget-view+json": {
       "model_id": "52882728aac1468bae32f905e18b21f0",
       "version_major": 2,
       "version_minor": 0
      },
      "text/html": [
       "<p>Failed to display Jupyter Widget of type <code>NGLWidget</code>.</p>\n",
       "<p>\n",
       "  If you're reading this message in the Jupyter Notebook or JupyterLab Notebook, it may mean\n",
       "  that the widgets JavaScript is still loading. If this message persists, it\n",
       "  likely means that the widgets JavaScript library is either not installed or\n",
       "  not enabled. See the <a href=\"https://ipywidgets.readthedocs.io/en/stable/user_install.html\">Jupyter\n",
       "  Widgets Documentation</a> for setup instructions.\n",
       "</p>\n",
       "<p>\n",
       "  If you're reading this message in another frontend (for example, a static\n",
       "  rendering on GitHub or <a href=\"https://nbviewer.jupyter.org/\">NBViewer</a>),\n",
       "  it may mean that your frontend doesn't currently support widgets.\n",
       "</p>\n"
      ],
      "text/plain": [
       "NGLWidget()"
      ]
     },
     "metadata": {},
     "output_type": "display_data"
    }
   ],
   "source": [
    "md_coors = md.load(file_coors)\n",
    "md_coors.remove_solvent()\n",
    "view = nv.show_mdtraj(md_coors)\n",
    "view"
   ]
  },
  {
   "cell_type": "code",
   "execution_count": 8,
   "metadata": {},
   "outputs": [
    {
     "data": {
      "application/vnd.jupyter.widget-view+json": {
       "model_id": "414860c0a292497597dc5d7c41e194f0",
       "version_major": 2,
       "version_minor": 0
      },
      "text/html": [
       "<p>Failed to display Jupyter Widget of type <code>NGLWidget</code>.</p>\n",
       "<p>\n",
       "  If you're reading this message in the Jupyter Notebook or JupyterLab Notebook, it may mean\n",
       "  that the widgets JavaScript is still loading. If this message persists, it\n",
       "  likely means that the widgets JavaScript library is either not installed or\n",
       "  not enabled. See the <a href=\"https://ipywidgets.readthedocs.io/en/stable/user_install.html\">Jupyter\n",
       "  Widgets Documentation</a> for setup instructions.\n",
       "</p>\n",
       "<p>\n",
       "  If you're reading this message in another frontend (for example, a static\n",
       "  rendering on GitHub or <a href=\"https://nbviewer.jupyter.org/\">NBViewer</a>),\n",
       "  it may mean that your frontend doesn't currently support widgets.\n",
       "</p>\n"
      ],
      "text/plain": [
       "NGLWidget(count=20001)"
      ]
     },
     "metadata": {},
     "output_type": "display_data"
    }
   ],
   "source": [
    "md_traj = md.load(file_traj, top=file_coors)\n",
    "md_traj.remove_solvent()\n",
    "md_traj.center_coordinates()\n",
    "traj_view = nv.show_mdtraj(md_traj)\n",
    "traj_view"
   ]
  },
  {
   "cell_type": "markdown",
   "metadata": {},
   "source": [
    "# Least RMSD with frame 0 as reference\n",
    "\n",
    "Have a look to: https://towardsdatascience.com/tensorflow-rmsd-using-tensorflow-for-things-it-was-not-designed-to-do-ada4c9aa0ea2\n",
    "Dou you know what quaternions are?"
   ]
  },
  {
   "cell_type": "code",
   "execution_count": 9,
   "metadata": {},
   "outputs": [],
   "source": [
    "rmsds = md.rmsd(md_traj, md_traj, 0, precentered=True) # md_traj.center_coordinates() was executed before"
   ]
  },
  {
   "cell_type": "code",
   "execution_count": 10,
   "metadata": {},
   "outputs": [
    {
     "data": {
      "image/png": "[encoded data removed]",
      "text/plain": [
       "<matplotlib.figure.Figure at 0x2aab2c2dbfd0>"
      ]
     },
     "metadata": {},
     "output_type": "display_data"
    }
   ],
   "source": [
    "plt.plot(rmsds)\n",
    "plt.xlabel(\"saved frame\")\n",
    "plt.ylabel(\"RMSD\")\n",
    "plt.show()"
   ]
  },
  {
   "cell_type": "code",
   "execution_count": 11,
   "metadata": {},
   "outputs": [],
   "source": [
    "del(md_traj)"
   ]
  },
  {
   "cell_type": "markdown",
   "metadata": {},
   "source": [
    "# H bonds with water"
   ]
  },
  {
   "cell_type": "code",
   "execution_count": 12,
   "metadata": {},
   "outputs": [],
   "source": [
    "u = MDAnalysis.Universe(file_coors,file_traj) "
   ]
  },
  {
   "cell_type": "code",
   "execution_count": 13,
   "metadata": {},
   "outputs": [
    {
     "name": "stdout",
     "output_type": "stream",
     "text": [
      "Number of atoms: 23558   Number of frames: 20001\n"
     ]
    }
   ],
   "source": [
    "print(\"Number of atoms:\",len(u.atoms),\"  Number of frames:\", len(u.trajectory))"
   ]
  },
  {
   "cell_type": "code",
   "execution_count": 14,
   "metadata": {},
   "outputs": [
    {
     "name": "stdout",
     "output_type": "stream",
     "text": [
      "['MET' 'ILE' 'SER' ..., 'WAT' 'WAT' 'WAT']\n"
     ]
    }
   ],
   "source": [
    "print(u.residues.resnames)"
   ]
  },
  {
   "cell_type": "code",
   "execution_count": 15,
   "metadata": {},
   "outputs": [],
   "source": [
    "group_O_wats=u.select_atoms('name O and resname WAT')\n",
    "\n",
    "for atom in group_O_wats.atoms:\n",
    "    atom.name='OW'"
   ]
  },
  {
   "cell_type": "code",
   "execution_count": null,
   "metadata": {},
   "outputs": [
    {
     "name": "stderr",
     "output_type": "stream",
     "text": [
      "HBonds frame  7200:   721/2001 [ 36.0%]\r"
     ]
    }
   ],
   "source": [
    "h = MDAnalysis.analysis.hbonds.HydrogenBondAnalysis(u, 'protein', 'resname WAT', distance=3.0, angle=120.0, step=10, filter_first=True)\n",
    "h.run()"
   ]
  },
  {
   "cell_type": "code",
   "execution_count": null,
   "metadata": {},
   "outputs": [],
   "source": [
    "h.generate_table()\n",
    "hbonds_table=h.table\n",
    "hbonds_timeseries=h.timeseries\n",
    "num_hbonds_per_frame=[len(ii) for ii in hbonds_timeseries]"
   ]
  },
  {
   "cell_type": "code",
   "execution_count": null,
   "metadata": {},
   "outputs": [],
   "source": [
    "plt.plot(num_hbonds_per_frame)\n",
    "plt.xlabel(\"saved frame\")\n",
    "plt.ylabel(\"#hbonds\")\n",
    "plt.title(\"Number of hbonds in time\")\n",
    "plt.show()\n",
    "\n",
    "sns.distplot(num_hbonds_per_frame)\n",
    "plt.xlabel(\"#hbonds\")\n",
    "plt.ylabel(\"Probability\")\n",
    "plt.title(\"Probability distribution of number of hbonds Protein-Solvent\")\n",
    "plt.show()"
   ]
  },
  {
   "cell_type": "code",
   "execution_count": null,
   "metadata": {},
   "outputs": [],
   "source": [
    "print(hbonds)"
   ]
  },
  {
   "cell_type": "code",
   "execution_count": null,
   "metadata": {},
   "outputs": [],
   "source": [
    "waters_hbonded={} # Counting number of frames a given water molecule is hbonded to the protein\n",
    "aminoacids_hbonded={} # Counting number of frames a given aa is hbonded to the solvent\n",
    "for hbonds_frame in hbonds:\n",
    "    resids_hbonded_in_frame=[]\n",
    "    for hbond in hbonds_frame:\n",
    "        res1=hbond[2].split(':')[0]\n",
    "        res2=hbond[3].split(':')[0]\n",
    "        resids_hbonded_in_frame.extend([res1,res2])\n",
    "    resids_hbonded_in_frame=np.unique(resids_hbonded_in_frame)\n",
    "    for resid in resids_hbonded_in_frame:\n",
    "        if resid.startswith('WAT'):\n",
    "            if resid in waters_hbonded.keys():\n",
    "                waters_hbonded[resid]+=1\n",
    "            else:\n",
    "                waters_hbonded[resid]=1\n",
    "        else:\n",
    "            if resid in aminoacids_hbonded.keys():\n",
    "                aminoacids_hbonded[resid]+=1\n",
    "            else:\n",
    "                aminoacids_hbonded[resid]=1"
   ]
  },
  {
   "cell_type": "code",
   "execution_count": null,
   "metadata": {},
   "outputs": [],
   "source": [
    "# Waters: number of frames solvating the protein\n",
    "\n",
    "group_waters=u.select_atoms('resname WAT')\n",
    "print('De', group_waters.n_residues, 'aguas, ',len(waters_hbonded),'solvataron la proteina en algún momento.')\n",
    "print('Estamos cerca del equilibrio si miramos la posibilidad de un agua de solvatar a la proteina?')\n",
    "print('')\n"
   ]
  },
  {
   "cell_type": "code",
   "execution_count": null,
   "metadata": {},
   "outputs": [],
   "source": [
    "waters={}\n",
    "\n",
    "for resid in group_waters.residues:\n",
    "    waters[resid.resname+str(resid.resid)]=0\n",
    "    \n",
    "for water_name in waters_hbonded.keys():\n",
    "    waters[water_name]=waters_hbonded[water_name]\n",
    "\n"
   ]
  },
  {
   "cell_type": "code",
   "execution_count": null,
   "metadata": {},
   "outputs": [],
   "source": [
    "sns.countplot(list(waters.values()))"
   ]
  },
  {
   "cell_type": "code",
   "execution_count": null,
   "metadata": {},
   "outputs": [],
   "source": [
    "water_hbonded_max=max(waters_hbonded, key=waters_hbonded.get)\n",
    "print('The water molecule named',water_hbonded_max,'stays ',waters_hbonded[water_hbonded_max],'frames hbonded')"
   ]
  },
  {
   "cell_type": "code",
   "execution_count": null,
   "metadata": {},
   "outputs": [],
   "source": [
    "# Residues: number of frames solvated \n",
    "\n",
    "group_aminoacids=u.select_atoms('protein')\n",
    "print('In', group_aminoacids.n_residues, 'residues, ',len(aminoacids_hbonded),'were solvated atleast one frame')\n",
    "print('')\n"
   ]
  },
  {
   "cell_type": "code",
   "execution_count": null,
   "metadata": {},
   "outputs": [],
   "source": [
    "aminoacids={}\n",
    "\n",
    "for resid in group_aminoacids.residues:\n",
    "    aminoacids[resid.resname+str(resid.resid)]=0\n",
    "    \n",
    "for aminoacid_name in aminoacids_hbonded.keys():\n",
    "    aminoacids[aminoacid_name]=aminoacids_hbonded[aminoacid_name]"
   ]
  },
  {
   "cell_type": "code",
   "execution_count": null,
   "metadata": {},
   "outputs": [],
   "source": [
    "names = list(aminoacids.keys())\n",
    "values = list(aminoacids.values())\n",
    "\n",
    "plt.bar(range(len(aminoacids)),values,tick_label=names)"
   ]
  },
  {
   "cell_type": "code",
   "execution_count": null,
   "metadata": {},
   "outputs": [],
   "source": []
  }
 ],
 "metadata": {
  "anaconda-cloud": {},
  "kernelspec": {
   "display_name": "Python [conda env:MDLab3]",
   "language": "python",
   "name": "conda-env-MDLab3-py"
  },
  "language_info": {
   "codemirror_mode": {
    "name": "ipython",
    "version": 3
   },
   "file_extension": ".py",
   "mimetype": "text/x-python",
   "name": "python",
   "nbconvert_exporter": "python",
   "pygments_lexer": "ipython3",
   "version": "3.6.4"
  }
 },
 "nbformat": 4,
 "nbformat_minor": 2
}
